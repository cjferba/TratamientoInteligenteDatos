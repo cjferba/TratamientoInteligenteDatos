{
 "cells": [
  {
   "cell_type": "markdown",
   "id": "fbbd3a04",
   "metadata": {},
   "source": [
    "\n",
    "# Práctica: Visualización con Python\n",
    "\n",
    "Este notebook reproduce la práctica de visualizacion de datos  utilizando **Python** y librerías como `pandas`, `matplotlib`, `seaborn` y `scipy`.\n",
    "\n",
    "Se trabajará con dos conjuntos de datos:\n",
    "- `prestamo.xls`\n",
    "- `NBA.xlsx`\n",
    "\n",
    "⚠️ Nota: Cambia las rutas de los ficheros según la ubicación en tu ordenador.\n"
   ]
  },
  {
   "cell_type": "code",
   "execution_count": null,
   "id": "a45ba86f",
   "metadata": {},
   "outputs": [],
   "source": [
    "\n",
    "import pandas as pd\n",
    "import numpy as np\n",
    "import matplotlib.pyplot as plt\n",
    "import seaborn as sns\n",
    "from scipy.stats import pearsonr\n",
    "from pandas.plotting import parallel_coordinates\n",
    "\n",
    "sns.set(style=\"whitegrid\")\n"
   ]
  },
  {
   "cell_type": "markdown",
   "id": "65bde46d",
   "metadata": {},
   "source": [
    "## Parte 1: Conjunto de datos `prestamo.xls`"
   ]
  },
  {
   "cell_type": "code",
   "execution_count": null,
   "id": "fcd72905",
   "metadata": {},
   "outputs": [],
   "source": [
    "\n",
    "# Cargar dataset de préstamo\n",
    "df = pd.read_excel(\"prestamo.xls\",sheet_name='Hoja2' )\n",
    "df.head()\n"
   ]
  },
  {
   "cell_type": "code",
   "execution_count": null,
   "id": "1cffe800",
   "metadata": {},
   "outputs": [],
   "source": [
    "\n",
    "# Conversión de variables categóricas\n",
    "df[\"Family\"] = df[\"Family\"].astype(\"category\")\n",
    "df[\"Education\"] = df[\"Education\"].astype(\"category\")\n",
    "df.info()\n"
   ]
  },
  {
   "cell_type": "code",
   "execution_count": null,
   "id": "97f5d6f5",
   "metadata": {},
   "outputs": [],
   "source": [
    "\n",
    "# Exploración inicial\n",
    "print(df.describe(include=\"all\"))\n",
    "sns.pairplot(df, hue=\"Family\")\n",
    "plt.show()\n"
   ]
  },
  {
   "cell_type": "code",
   "execution_count": null,
   "id": "c35c7988",
   "metadata": {},
   "outputs": [],
   "source": [
    "\n",
    "# Diagrama de barras de Family\n",
    "family_counts = df[\"Family\"].value_counts()\n",
    "sns.barplot(x=family_counts.index, y=family_counts.values)\n",
    "plt.title(\"Número de miembros de la familia\")\n",
    "plt.show()\n"
   ]
  },
  {
   "cell_type": "code",
   "execution_count": null,
   "id": "0d8aed0d",
   "metadata": {},
   "outputs": [],
   "source": [
    "\n",
    "# Dispersión Edad vs Experiencia + correlación\n",
    "sns.scatterplot(x=\"Age\", y=\"Experience\", data=df)\n",
    "plt.show()\n",
    "\n",
    "corr, _ = pearsonr(df[\"Age\"], df[\"Experience\"])\n",
    "print(\"Correlación Edad-Experiencia:\", corr)\n"
   ]
  },
  {
   "cell_type": "code",
   "execution_count": null,
   "id": "14cf9735",
   "metadata": {},
   "outputs": [],
   "source": [
    "\n",
    "# Matriz de dispersión y correlaciones\n",
    "sns.pairplot(df.select_dtypes(include=[np.number]))\n",
    "plt.show()\n",
    "\n",
    "print(df.corr(numeric_only=True))\n"
   ]
  },
  {
   "cell_type": "code",
   "execution_count": null,
   "id": "4a5da474",
   "metadata": {},
   "outputs": [],
   "source": [
    "\n",
    "# Dispersión Edad vs Ingresos coloreado por Family\n",
    "sns.scatterplot(x=\"Age\", y=\"Income\", hue=\"Family\", data=df, palette=\"viridis\")\n",
    "plt.show()\n"
   ]
  },
  {
   "cell_type": "code",
   "execution_count": null,
   "id": "22eeb76e",
   "metadata": {},
   "outputs": [],
   "source": [
    "\n",
    "# Filtrar clientes con familias de 4 miembros\n",
    "df_fam4 = df[df[\"Family\"] == 4]\n",
    "sns.pairplot(df_fam4, hue=\"Education\")\n",
    "plt.show()\n"
   ]
  },
  {
   "cell_type": "code",
   "execution_count": null,
   "id": "33f9b379",
   "metadata": {},
   "outputs": [],
   "source": [
    "\n",
    "# Diagrama circular de Education en familias de 4\n",
    "df_fam4[\"Education\"].value_counts().plot.pie(autopct='%1.1f%%')\n",
    "plt.title(\"Distribución Educación (familias de 4)\")\n",
    "plt.show()\n"
   ]
  },
  {
   "cell_type": "markdown",
   "id": "089ae577",
   "metadata": {},
   "source": [
    "## Parte 2: Conjunto de datos `NBA.xlsx`"
   ]
  },
  {
   "cell_type": "code",
   "execution_count": null,
   "id": "cc3e8bd2",
   "metadata": {},
   "outputs": [],
   "source": [
    "\n",
    "# Cargar dataset NBA\n",
    "nba = pd.read_excel(\"NBA.xlsx\")\n",
    "nba.head()\n"
   ]
  },
  {
   "cell_type": "code",
   "execution_count": null,
   "id": "42dfcd64",
   "metadata": {},
   "outputs": [],
   "source": [
    "\n",
    "# Estadísticas descriptivas\n",
    "print(nba.describe())\n"
   ]
  },
  {
   "cell_type": "code",
   "execution_count": null,
   "id": "6937653a",
   "metadata": {},
   "outputs": [],
   "source": [
    "\n",
    "# Pairplot de variables numéricas\n",
    "sns.pairplot(nba.select_dtypes(include=[np.number]))\n",
    "plt.show()\n"
   ]
  },
  {
   "cell_type": "code",
   "execution_count": null,
   "id": "336856b8",
   "metadata": {},
   "outputs": [],
   "source": [
    "\n",
    "# Matriz de correlación\n",
    "sns.heatmap(nba.corr(numeric_only=True), annot=True, cmap=\"coolwarm\")\n",
    "plt.show()\n"
   ]
  },
  {
   "cell_type": "code",
   "execution_count": null,
   "id": "f390b626",
   "metadata": {},
   "outputs": [],
   "source": [
    "\n",
    "# Diagrama de barras de posiciones\n",
    "sns.countplot(x=\"POS\", data=nba)\n",
    "plt.show()\n"
   ]
  },
  {
   "cell_type": "code",
   "execution_count": null,
   "id": "73174d0f",
   "metadata": {},
   "outputs": [],
   "source": [
    "\n",
    "# Diagramas de caja de variables numéricas\n",
    "nba.select_dtypes(include=[np.number]).plot(kind=\"box\", figsize=(12,6))\n",
    "plt.show()\n"
   ]
  },
  {
   "cell_type": "code",
   "execution_count": null,
   "id": "0619ed8e",
   "metadata": {},
   "outputs": [],
   "source": [
    "\n",
    "# Diagrama circular de Partidos Jugados (GP)\n",
    "nba[\"GP\"].value_counts().plot.pie(autopct='%1.1f%%')\n",
    "plt.title(\"Distribución de Partidos Jugados\")\n",
    "plt.show()\n"
   ]
  },
  {
   "cell_type": "code",
   "execution_count": null,
   "id": "4f30129e",
   "metadata": {},
   "outputs": [],
   "source": [
    "\n",
    "# Filtrar por equipo y graficar coordenadas paralelas\n",
    "team = \"LAL\"  # Ejemplo de equipo\n",
    "nba_team = nba[nba[\"Team\"] == team]\n",
    "cols = [\"PTS\", \"AST\", \"REB\", \"STL\", \"BLK\", \"Player\"]  # Características de ejemplo\n",
    "parallel_coordinates(nba_team[cols], \"Player\", colormap=plt.get_cmap(\"tab10\"))\n",
    "plt.show()\n"
   ]
  },
  {
   "cell_type": "markdown",
   "id": "308ac2d1",
   "metadata": {},
   "source": [
    "\n",
    "### Ejercicio final  \n",
    "En base a los resultados obtenidos:\n",
    "- ¿Cómo dividirías a los jugadores en grupos?\n",
    "- ¿Cuántos grupos definirías?  \n",
    "- ¿Qué características destacarías de cada grupo?  \n"
   ]
  }
 ],
 "metadata": {
  "language_info": {
   "name": "python"
  }
 },
 "nbformat": 4,
 "nbformat_minor": 5
}
